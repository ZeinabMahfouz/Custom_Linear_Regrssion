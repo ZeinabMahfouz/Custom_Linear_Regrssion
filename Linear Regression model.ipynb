{
 "cells": [
  {
   "cell_type": "code",
   "execution_count": null,
   "id": "c3aaf8fa-af6f-4a0e-bf82-76419f451cb4",
   "metadata": {},
   "outputs": [],
   "source": [
    "import numpy as np\n",
    "import Test_Train_np\n",
    "np.random.seed(42)\n",
    "X = 2 * np.random.rand(100, 1)\n",
    "y = 4 + 3 * X + np.random.randn(100, 1)\n",
    "X_b = np.c_[np.ones((100, 1)), X]\n",
    "x_train, y_train, x_test, y_test = Test_Train_np.train_test_split_np(X_b, y, test_size=0.2, shuffle=True, random_seed=42)\n",
    "#print(x_train.shape, y_train.shape, x_test.shape, y_test.shape)\n",
    "theta_best = np.dot(np.linalg.inv(np.dot(x_train.T, x_train)), np.dot(x_train.T, y_train))\n",
    "#print(theta_best)\n",
    "y_pred = np.dot(x_test, theta_best)\n",
    "mse = np.mean((y_test - y_pred) ** 2)\n",
    "print(f\"Mean Squared Error on test set: {mse:.4f}\")"
   ]
  },
  {
   "cell_type": "code",
   "execution_count": null,
   "id": "9f3fa3b5-41a0-4a82-979a-df66ea2ced79",
   "metadata": {},
   "outputs": [],
   "source": []
  },
  {
   "cell_type": "code",
   "execution_count": null,
   "id": "2707e5d8-4aca-4271-88c5-1e97271e6d7f",
   "metadata": {},
   "outputs": [],
   "source": []
  },
  {
   "cell_type": "code",
   "execution_count": null,
   "id": "78498e0a-ecfd-4e1e-b5e4-9418eeb91330",
   "metadata": {},
   "outputs": [],
   "source": []
  }
 ],
 "metadata": {
  "kernelspec": {
   "display_name": "Python 3 (ipykernel)",
   "language": "python",
   "name": "python3"
  },
  "language_info": {
   "codemirror_mode": {
    "name": "ipython",
    "version": 3
   },
   "file_extension": ".py",
   "mimetype": "text/x-python",
   "name": "python",
   "nbconvert_exporter": "python",
   "pygments_lexer": "ipython3",
   "version": "3.11.5"
  }
 },
 "nbformat": 4,
 "nbformat_minor": 5
}
